{
 "cells": [
  {
   "cell_type": "markdown",
   "id": "bb4d2cdc",
   "metadata": {},
   "source": [
    "### 1. Create a variable x and assign it the value 5. Print the value of x."
   ]
  },
  {
   "cell_type": "code",
   "execution_count": 90,
   "id": "304934b5",
   "metadata": {},
   "outputs": [],
   "source": [
    "x=5"
   ]
  },
  {
   "cell_type": "code",
   "execution_count": 91,
   "id": "9ae4d166",
   "metadata": {},
   "outputs": [
    {
     "name": "stdout",
     "output_type": "stream",
     "text": [
      "The value of x is 5\n"
     ]
    }
   ],
   "source": [
    "print(f'The value of x is {x}')"
   ]
  },
  {
   "cell_type": "markdown",
   "id": "c35eb3f0",
   "metadata": {},
   "source": [
    "### 2. Create two variables a and b, and assign them values 3 and 2 respectively. Add a and b together and print the\n",
    "result."
   ]
  },
  {
   "cell_type": "code",
   "execution_count": 92,
   "id": "4abe6f67",
   "metadata": {},
   "outputs": [],
   "source": [
    "a=3\n",
    "b=2"
   ]
  },
  {
   "cell_type": "code",
   "execution_count": 93,
   "id": "33aa59e4",
   "metadata": {},
   "outputs": [
    {
     "name": "stdout",
     "output_type": "stream",
     "text": [
      "Te added value of a and b is 5\n"
     ]
    }
   ],
   "source": [
    "print(f'Te added value of a and b is {a+b}')"
   ]
  },
  {
   "cell_type": "markdown",
   "id": "320d0964",
   "metadata": {},
   "source": [
    "### 3. Create a variable pi and assign it the value 3.14159. Print the value of pi."
   ]
  },
  {
   "cell_type": "code",
   "execution_count": 94,
   "id": "c3fc3441",
   "metadata": {},
   "outputs": [],
   "source": [
    "pi=3.14159"
   ]
  },
  {
   "cell_type": "code",
   "execution_count": 95,
   "id": "6b53e744",
   "metadata": {},
   "outputs": [
    {
     "name": "stdout",
     "output_type": "stream",
     "text": [
      "The value of pi is 3.14159\n"
     ]
    }
   ],
   "source": [
    "print(f'The value of pi is {pi}')"
   ]
  },
  {
   "cell_type": "markdown",
   "id": "9303f18d",
   "metadata": {},
   "source": [
    "### 4. Create a variable radius and assign it the value 5. Calculate the area of a circle with radius radius using the formula pi * radius ** 2 and print the result."
   ]
  },
  {
   "cell_type": "code",
   "execution_count": 96,
   "id": "9a217569",
   "metadata": {},
   "outputs": [],
   "source": [
    "r=5"
   ]
  },
  {
   "cell_type": "code",
   "execution_count": 97,
   "id": "ed65b94b",
   "metadata": {},
   "outputs": [],
   "source": [
    "y=pi*r**2"
   ]
  },
  {
   "cell_type": "code",
   "execution_count": 98,
   "id": "e420a94d",
   "metadata": {},
   "outputs": [
    {
     "name": "stdout",
     "output_type": "stream",
     "text": [
      "The result is 78.53975\n"
     ]
    }
   ],
   "source": [
    "print(f'The result is {y}')"
   ]
  },
  {
   "cell_type": "markdown",
   "id": "fd56d8cc",
   "metadata": {},
   "source": [
    "### 5. Create a variable name and assign it your name as a string. Print a greeting using your name, such as \"Hello, [name]!\""
   ]
  },
  {
   "cell_type": "code",
   "execution_count": 99,
   "id": "19a2e3e0",
   "metadata": {},
   "outputs": [],
   "source": [
    "X='Pradeep Kumar'"
   ]
  },
  {
   "cell_type": "code",
   "execution_count": 100,
   "id": "94ff9b9a",
   "metadata": {},
   "outputs": [
    {
     "name": "stdout",
     "output_type": "stream",
     "text": [
      "Hello, Pradeep Kumar\n"
     ]
    }
   ],
   "source": [
    "print(f'Hello, {X}')"
   ]
  },
  {
   "cell_type": "markdown",
   "id": "7e242ff4",
   "metadata": {},
   "source": [
    "### 6. Create a variable age and assign it your age as an integer. Print a sentence that includes your age, such as \"I am [age] years old.\""
   ]
  },
  {
   "cell_type": "code",
   "execution_count": 101,
   "id": "94f3716d",
   "metadata": {},
   "outputs": [],
   "source": [
    "age=25"
   ]
  },
  {
   "cell_type": "code",
   "execution_count": 102,
   "id": "427be359",
   "metadata": {},
   "outputs": [
    {
     "name": "stdout",
     "output_type": "stream",
     "text": [
      "I am 25 years old\n"
     ]
    }
   ],
   "source": [
    "print(f'I am {age} years old')"
   ]
  },
  {
   "cell_type": "markdown",
   "id": "ccf95563",
   "metadata": {},
   "source": [
    "### 7. Create a variable height and assign it your height in meters as a float. Print a sentence that includes your height, such as \"I am [height] meters tall.\""
   ]
  },
  {
   "cell_type": "code",
   "execution_count": 103,
   "id": "0496feb4",
   "metadata": {},
   "outputs": [],
   "source": [
    "h=float(3.2)"
   ]
  },
  {
   "cell_type": "code",
   "execution_count": 104,
   "id": "d9bda71a",
   "metadata": {},
   "outputs": [
    {
     "name": "stdout",
     "output_type": "stream",
     "text": [
      "I am 3.2 meters tall\n"
     ]
    }
   ],
   "source": [
    "print(f'I am {h} meters tall')"
   ]
  },
  {
   "cell_type": "markdown",
   "id": "8451fc64",
   "metadata": {},
   "source": [
    "### 8. Create a variable sentence and assign it a sentence as a string. Print the first letter of the sentence."
   ]
  },
  {
   "cell_type": "code",
   "execution_count": 105,
   "id": "da7e0cab",
   "metadata": {},
   "outputs": [],
   "source": [
    "A='pradeep done his work'"
   ]
  },
  {
   "cell_type": "code",
   "execution_count": 106,
   "id": "42fed7b0",
   "metadata": {},
   "outputs": [
    {
     "name": "stdout",
     "output_type": "stream",
     "text": [
      "p\n"
     ]
    }
   ],
   "source": [
    "print(A[0])"
   ]
  },
  {
   "cell_type": "markdown",
   "id": "c2bb6dd7",
   "metadata": {},
   "source": [
    "### 9. Create a variable sentence and assign it a sentence as a string. Print the last letter of the sentence."
   ]
  },
  {
   "cell_type": "code",
   "execution_count": 107,
   "id": "86be44fd",
   "metadata": {},
   "outputs": [
    {
     "data": {
      "text/plain": [
       "'pradeep done his work'"
      ]
     },
     "execution_count": 107,
     "metadata": {},
     "output_type": "execute_result"
    }
   ],
   "source": [
    "A"
   ]
  },
  {
   "cell_type": "code",
   "execution_count": 108,
   "id": "570f7e66",
   "metadata": {},
   "outputs": [
    {
     "name": "stdout",
     "output_type": "stream",
     "text": [
      "k\n"
     ]
    }
   ],
   "source": [
    "print(A[20])"
   ]
  },
  {
   "cell_type": "markdown",
   "id": "6152d86a",
   "metadata": {},
   "source": [
    "### 10. Create a variable sentence and assign it a sentence as a string. Print the length of the sentence."
   ]
  },
  {
   "cell_type": "code",
   "execution_count": 88,
   "id": "370dd8cf",
   "metadata": {},
   "outputs": [
    {
     "data": {
      "text/plain": [
       "'pradeep done his work'"
      ]
     },
     "execution_count": 88,
     "metadata": {},
     "output_type": "execute_result"
    }
   ],
   "source": [
    "A"
   ]
  },
  {
   "cell_type": "code",
   "execution_count": 89,
   "id": "9324a565",
   "metadata": {},
   "outputs": [
    {
     "name": "stdout",
     "output_type": "stream",
     "text": [
      "21\n"
     ]
    }
   ],
   "source": [
    "print(len(A))"
   ]
  },
  {
   "cell_type": "code",
   "execution_count": null,
   "id": "c88794f9",
   "metadata": {},
   "outputs": [],
   "source": []
  }
 ],
 "metadata": {
  "kernelspec": {
   "display_name": "Python 3 (ipykernel)",
   "language": "python",
   "name": "python3"
  },
  "language_info": {
   "codemirror_mode": {
    "name": "ipython",
    "version": 3
   },
   "file_extension": ".py",
   "mimetype": "text/x-python",
   "name": "python",
   "nbconvert_exporter": "python",
   "pygments_lexer": "ipython3",
   "version": "3.10.9"
  }
 },
 "nbformat": 4,
 "nbformat_minor": 5
}

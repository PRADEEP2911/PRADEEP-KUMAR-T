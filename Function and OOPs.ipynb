{
 "cells": [
  {
   "cell_type": "markdown",
   "id": "89c30000",
   "metadata": {},
   "source": [
    "## Function and OOPs"
   ]
  },
  {
   "cell_type": "markdown",
   "id": "e096cccb",
   "metadata": {},
   "source": [
    "### 1. Write a function add_numbers that takes two numbers as arguments and returns their sum."
   ]
  },
  {
   "cell_type": "code",
   "execution_count": 1,
   "id": "957bf8b5",
   "metadata": {},
   "outputs": [],
   "source": [
    "def add_numbers (a,b):\n",
    "    c= a+b\n",
    "    return c"
   ]
  },
  {
   "cell_type": "code",
   "execution_count": 2,
   "id": "963f54ff",
   "metadata": {},
   "outputs": [
    {
     "data": {
      "text/plain": [
       "17"
      ]
     },
     "execution_count": 2,
     "metadata": {},
     "output_type": "execute_result"
    }
   ],
   "source": [
    "add_numbers(9,8)"
   ]
  },
  {
   "cell_type": "code",
   "execution_count": 3,
   "id": "27f9ee7a",
   "metadata": {},
   "outputs": [
    {
     "data": {
      "text/plain": [
       "1"
      ]
     },
     "execution_count": 3,
     "metadata": {},
     "output_type": "execute_result"
    }
   ],
   "source": [
    "add_numbers(9,-8)"
   ]
  },
  {
   "cell_type": "markdown",
   "id": "cc671369",
   "metadata": {},
   "source": [
    "### 2. Write a function multiply_numbers that takes two numbers as arguments and returns their product."
   ]
  },
  {
   "cell_type": "code",
   "execution_count": 4,
   "id": "d487a9fc",
   "metadata": {},
   "outputs": [],
   "source": [
    "  def multiply_numbers (a,b):\n",
    "    c= a*b\n",
    "    return c"
   ]
  },
  {
   "cell_type": "code",
   "execution_count": 5,
   "id": "f5243777",
   "metadata": {},
   "outputs": [
    {
     "data": {
      "text/plain": [
       "12"
      ]
     },
     "execution_count": 5,
     "metadata": {},
     "output_type": "execute_result"
    }
   ],
   "source": [
    "multiply_numbers(3,4)"
   ]
  },
  {
   "cell_type": "code",
   "execution_count": 6,
   "id": "459f22f4",
   "metadata": {},
   "outputs": [
    {
     "data": {
      "text/plain": [
       "-12"
      ]
     },
     "execution_count": 6,
     "metadata": {},
     "output_type": "execute_result"
    }
   ],
   "source": [
    "multiply_numbers(-3,4)"
   ]
  },
  {
   "cell_type": "markdown",
   "id": "85009242",
   "metadata": {},
   "source": [
    "### 3. Write a function divide_numbers that takes two numbers as arguments and returns their quotient. Make sure to handle the case where the second number is 0."
   ]
  },
  {
   "cell_type": "code",
   "execution_count": 7,
   "id": "386ab7eb",
   "metadata": {},
   "outputs": [],
   "source": [
    "def divide_numbers (a,b):\n",
    "         if b == 0:\n",
    "            return \"Error: Cannot divide by zero\" \n",
    "         else:\n",
    "            return a/b"
   ]
  },
  {
   "cell_type": "code",
   "execution_count": 8,
   "id": "14f8bb39",
   "metadata": {},
   "outputs": [
    {
     "name": "stdout",
     "output_type": "stream",
     "text": [
      "9.0\n"
     ]
    }
   ],
   "source": [
    "print( divide_numbers(18,2))"
   ]
  },
  {
   "cell_type": "code",
   "execution_count": 9,
   "id": "b2fa9c03",
   "metadata": {},
   "outputs": [
    {
     "name": "stdout",
     "output_type": "stream",
     "text": [
      "Error: Cannot divide by zero\n"
     ]
    }
   ],
   "source": [
    "print (divide_numbers(18,0))"
   ]
  },
  {
   "cell_type": "markdown",
   "id": "29da2829",
   "metadata": {},
   "source": [
    "### 4. Write a function calculate_average that takes a list of numbers as an argument and returns their average."
   ]
  },
  {
   "cell_type": "code",
   "execution_count": 10,
   "id": "87cdfbba",
   "metadata": {},
   "outputs": [],
   "source": [
    "n=(1,2,3,4,5,6,7,8,9,10) \n",
    "def calculate_average(n):\n",
    "    return sum(n) /len(n)"
   ]
  },
  {
   "cell_type": "code",
   "execution_count": 11,
   "id": "80d8fc33",
   "metadata": {},
   "outputs": [
    {
     "data": {
      "text/plain": [
       "5.5"
      ]
     },
     "execution_count": 11,
     "metadata": {},
     "output_type": "execute_result"
    }
   ],
   "source": [
    "calculate_average(n)"
   ]
  },
  {
   "cell_type": "markdown",
   "id": "dc8b1a90",
   "metadata": {},
   "source": [
    "### 5. Write a function is_prime that takes a number as an argument and returns True if the number is prime and False otherwise."
   ]
  },
  {
   "cell_type": "code",
   "execution_count": 12,
   "id": "c56ba05d",
   "metadata": {},
   "outputs": [],
   "source": [
    "def is_prime(number):\n",
    "    if number < 5:\n",
    "        return False\n",
    "    else:\n",
    "        for i in range(5, number):\n",
    "            if number % i == 0:\n",
    "                return False\n",
    "        return True"
   ]
  },
  {
   "cell_type": "code",
   "execution_count": 13,
   "id": "95829dff",
   "metadata": {},
   "outputs": [
    {
     "data": {
      "text/plain": [
       "True"
      ]
     },
     "execution_count": 13,
     "metadata": {},
     "output_type": "execute_result"
    }
   ],
   "source": [
    "is_prime(7)"
   ]
  },
  {
   "cell_type": "code",
   "execution_count": 14,
   "id": "070cfe5b",
   "metadata": {},
   "outputs": [
    {
     "data": {
      "text/plain": [
       "False"
      ]
     },
     "execution_count": 14,
     "metadata": {},
     "output_type": "execute_result"
    }
   ],
   "source": [
    "is_prime(10)"
   ]
  },
  {
   "cell_type": "markdown",
   "id": "5c52d8ea",
   "metadata": {},
   "source": [
    "### 6. Create a class Bank with attributes name and accounts. Add methods add_account, remove_account, and get_total_balance that add an account to the list, remove an account from the list, and return the total balance of all accounts, respectively."
   ]
  },
  {
   "cell_type": "code",
   "execution_count": 15,
   "id": "a81d24f6",
   "metadata": {},
   "outputs": [],
   "source": [
    "class Account:\n",
    "    def __init__(self, balance):\n",
    "        self.balance = balance\n",
    "\n",
    "class Bank:\n",
    "    def __init__(self, name):\n",
    "        self.name = name\n",
    "        self.accounts = []\n",
    "\n",
    "    def add_account(self, account):\n",
    "        self.accounts.append(account)\n",
    "\n",
    "    def remove_account(self, account):\n",
    "        self.accounts.remove(account)\n",
    "    def get_total_balance(self):\n",
    "         return sum(account.balance for account in self.accounts)\n"
   ]
  },
  {
   "cell_type": "code",
   "execution_count": 16,
   "id": "d259f558",
   "metadata": {},
   "outputs": [],
   "source": [
    "bank = Bank(\"My Bank\")\n",
    "account1 = Account(7000)\n",
    "account2 = Account(4000)\n",
    "bank.add_account(account1)\n",
    "bank.add_account(account2)"
   ]
  },
  {
   "cell_type": "code",
   "execution_count": 17,
   "id": "cfcf3244",
   "metadata": {},
   "outputs": [
    {
     "name": "stdout",
     "output_type": "stream",
     "text": [
      "11000\n"
     ]
    }
   ],
   "source": [
    "print(bank.get_total_balance()) "
   ]
  },
  {
   "cell_type": "code",
   "execution_count": 18,
   "id": "e9399d31",
   "metadata": {},
   "outputs": [
    {
     "name": "stdout",
     "output_type": "stream",
     "text": [
      "4000\n"
     ]
    }
   ],
   "source": [
    "bank.remove_account(account1)\n",
    "print(bank.get_total_balance()) "
   ]
  },
  {
   "cell_type": "code",
   "execution_count": null,
   "id": "3c7ccdeb",
   "metadata": {},
   "outputs": [],
   "source": []
  }
 ],
 "metadata": {
  "kernelspec": {
   "display_name": "Python 3 (ipykernel)",
   "language": "python",
   "name": "python3"
  },
  "language_info": {
   "codemirror_mode": {
    "name": "ipython",
    "version": 3
   },
   "file_extension": ".py",
   "mimetype": "text/x-python",
   "name": "python",
   "nbconvert_exporter": "python",
   "pygments_lexer": "ipython3",
   "version": "3.10.9"
  }
 },
 "nbformat": 4,
 "nbformat_minor": 5
}

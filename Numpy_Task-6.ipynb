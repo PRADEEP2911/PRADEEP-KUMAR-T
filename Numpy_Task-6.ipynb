{
 "cells": [
  {
   "cell_type": "markdown",
   "id": "349c549c",
   "metadata": {},
   "source": [
    "## Task-6 Numpy"
   ]
  },
  {
   "cell_type": "code",
   "execution_count": 1,
   "id": "0962ff62",
   "metadata": {},
   "outputs": [],
   "source": [
    "import pandas as pd\n",
    "import numpy as np"
   ]
  },
  {
   "cell_type": "markdown",
   "id": "c5e6892c",
   "metadata": {},
   "source": [
    "### 1. Import the NumPy library and create a 2D array data from the given data in the table above."
   ]
  },
  {
   "cell_type": "code",
   "execution_count": 2,
   "id": "851838c9",
   "metadata": {},
   "outputs": [],
   "source": [
    "df=pd.read_csv(\"E:\\Pradeep_Datascience\\Github_files\\padas_question.csv\")"
   ]
  },
  {
   "cell_type": "code",
   "execution_count": 3,
   "id": "ff0e34cd",
   "metadata": {},
   "outputs": [
    {
     "data": {
      "text/html": [
       "<div>\n",
       "<style scoped>\n",
       "    .dataframe tbody tr th:only-of-type {\n",
       "        vertical-align: middle;\n",
       "    }\n",
       "\n",
       "    .dataframe tbody tr th {\n",
       "        vertical-align: top;\n",
       "    }\n",
       "\n",
       "    .dataframe thead th {\n",
       "        text-align: right;\n",
       "    }\n",
       "</style>\n",
       "<table border=\"1\" class=\"dataframe\">\n",
       "  <thead>\n",
       "    <tr style=\"text-align: right;\">\n",
       "      <th></th>\n",
       "      <th>Name</th>\n",
       "      <th>Gender</th>\n",
       "      <th>Age</th>\n",
       "      <th>Height (cm)</th>\n",
       "      <th>Weight (kg)</th>\n",
       "      <th>City</th>\n",
       "    </tr>\n",
       "  </thead>\n",
       "  <tbody>\n",
       "    <tr>\n",
       "      <th>0</th>\n",
       "      <td>Alice</td>\n",
       "      <td>Female</td>\n",
       "      <td>25</td>\n",
       "      <td>165</td>\n",
       "      <td>58</td>\n",
       "      <td>New York</td>\n",
       "    </tr>\n",
       "    <tr>\n",
       "      <th>1</th>\n",
       "      <td>Bob</td>\n",
       "      <td>Male</td>\n",
       "      <td>30</td>\n",
       "      <td>180</td>\n",
       "      <td>80</td>\n",
       "      <td>Los Angeles</td>\n",
       "    </tr>\n",
       "    <tr>\n",
       "      <th>2</th>\n",
       "      <td>Charlie</td>\n",
       "      <td>Male</td>\n",
       "      <td>35</td>\n",
       "      <td>175</td>\n",
       "      <td>70</td>\n",
       "      <td>Chicago</td>\n",
       "    </tr>\n",
       "    <tr>\n",
       "      <th>3</th>\n",
       "      <td>Diana</td>\n",
       "      <td>Female</td>\n",
       "      <td>28</td>\n",
       "      <td>170</td>\n",
       "      <td>65</td>\n",
       "      <td>Miami</td>\n",
       "    </tr>\n",
       "    <tr>\n",
       "      <th>4</th>\n",
       "      <td>Eva</td>\n",
       "      <td>Female</td>\n",
       "      <td>27</td>\n",
       "      <td>175</td>\n",
       "      <td>60</td>\n",
       "      <td>New York</td>\n",
       "    </tr>\n",
       "    <tr>\n",
       "      <th>5</th>\n",
       "      <td>Frank</td>\n",
       "      <td>Male</td>\n",
       "      <td>40</td>\n",
       "      <td>190</td>\n",
       "      <td>85</td>\n",
       "      <td>Houston</td>\n",
       "    </tr>\n",
       "    <tr>\n",
       "      <th>6</th>\n",
       "      <td>Grace</td>\n",
       "      <td>Female</td>\n",
       "      <td>32</td>\n",
       "      <td>168</td>\n",
       "      <td>55</td>\n",
       "      <td>Chicago</td>\n",
       "    </tr>\n",
       "    <tr>\n",
       "      <th>7</th>\n",
       "      <td>Henry</td>\n",
       "      <td>Male</td>\n",
       "      <td>45</td>\n",
       "      <td>175</td>\n",
       "      <td>75</td>\n",
       "      <td>Los Angeles</td>\n",
       "    </tr>\n",
       "    <tr>\n",
       "      <th>8</th>\n",
       "      <td>Ivy</td>\n",
       "      <td>Female</td>\n",
       "      <td>26</td>\n",
       "      <td>172</td>\n",
       "      <td>63</td>\n",
       "      <td>Miami</td>\n",
       "    </tr>\n",
       "    <tr>\n",
       "      <th>9</th>\n",
       "      <td>Jack</td>\n",
       "      <td>Male</td>\n",
       "      <td>28</td>\n",
       "      <td>180</td>\n",
       "      <td>78</td>\n",
       "      <td>New York</td>\n",
       "    </tr>\n",
       "  </tbody>\n",
       "</table>\n",
       "</div>"
      ],
      "text/plain": [
       "      Name  Gender  Age  Height (cm)  Weight (kg)         City\n",
       "0    Alice  Female   25          165           58     New York\n",
       "1      Bob    Male   30          180           80  Los Angeles\n",
       "2  Charlie    Male   35          175           70      Chicago\n",
       "3    Diana  Female   28          170           65        Miami\n",
       "4      Eva  Female   27          175           60     New York\n",
       "5    Frank    Male   40          190           85      Houston\n",
       "6    Grace  Female   32          168           55      Chicago\n",
       "7    Henry    Male   45          175           75  Los Angeles\n",
       "8      Ivy  Female   26          172           63        Miami\n",
       "9     Jack    Male   28          180           78     New York"
      ]
     },
     "execution_count": 3,
     "metadata": {},
     "output_type": "execute_result"
    }
   ],
   "source": [
    "df"
   ]
  },
  {
   "cell_type": "code",
   "execution_count": 4,
   "id": "8b5908dd",
   "metadata": {},
   "outputs": [],
   "source": [
    "array=np.array(df)"
   ]
  },
  {
   "cell_type": "code",
   "execution_count": 5,
   "id": "c872a187",
   "metadata": {},
   "outputs": [
    {
     "data": {
      "text/plain": [
       "array([['Alice', 'Female', 25, 165, 58, 'New York'],\n",
       "       ['Bob', 'Male', 30, 180, 80, 'Los Angeles'],\n",
       "       ['Charlie', 'Male', 35, 175, 70, 'Chicago'],\n",
       "       ['Diana', 'Female', 28, 170, 65, 'Miami'],\n",
       "       ['Eva', 'Female', 27, 175, 60, 'New York'],\n",
       "       ['Frank', 'Male', 40, 190, 85, 'Houston'],\n",
       "       ['Grace', 'Female', 32, 168, 55, 'Chicago'],\n",
       "       ['Henry', 'Male', 45, 175, 75, 'Los Angeles'],\n",
       "       ['Ivy', 'Female', 26, 172, 63, 'Miami'],\n",
       "       ['Jack', 'Male', 28, 180, 78, 'New York']], dtype=object)"
      ]
     },
     "execution_count": 5,
     "metadata": {},
     "output_type": "execute_result"
    }
   ],
   "source": [
    "array"
   ]
  },
  {
   "cell_type": "markdown",
   "id": "4cc66ca1",
   "metadata": {},
   "source": [
    "### 2. Print the shape of the data array."
   ]
  },
  {
   "cell_type": "code",
   "execution_count": 6,
   "id": "85c39a36",
   "metadata": {},
   "outputs": [
    {
     "data": {
      "text/plain": [
       "(10, 6)"
      ]
     },
     "execution_count": 6,
     "metadata": {},
     "output_type": "execute_result"
    }
   ],
   "source": [
    "df.shape"
   ]
  },
  {
   "cell_type": "markdown",
   "id": "315bcace",
   "metadata": {},
   "source": [
    "### 3. Extract the column of heights from the data array and assign it to a new variable heights."
   ]
  },
  {
   "cell_type": "code",
   "execution_count": 7,
   "id": "ec37614e",
   "metadata": {},
   "outputs": [
    {
     "name": "stdout",
     "output_type": "stream",
     "text": [
      "[165 180 175 170 175 190 168 175 172 180]\n"
     ]
    }
   ],
   "source": [
    "heights=array[:,3]\n",
    "print(heights)"
   ]
  },
  {
   "cell_type": "markdown",
   "id": "70944eb6",
   "metadata": {},
   "source": [
    "### 4. Calculate the mean height of the group using NumPy."
   ]
  },
  {
   "cell_type": "code",
   "execution_count": 8,
   "id": "d21ea553",
   "metadata": {},
   "outputs": [
    {
     "data": {
      "text/plain": [
       "175.0"
      ]
     },
     "execution_count": 8,
     "metadata": {},
     "output_type": "execute_result"
    }
   ],
   "source": [
    "np.mean(heights)"
   ]
  },
  {
   "cell_type": "markdown",
   "id": "beee902e",
   "metadata": {},
   "source": [
    "### 5. Extract the rows of females from the data array and assign it to a new variable females."
   ]
  },
  {
   "cell_type": "code",
   "execution_count": 9,
   "id": "bbeebf4f",
   "metadata": {},
   "outputs": [
    {
     "name": "stdout",
     "output_type": "stream",
     "text": [
      "[['Alice' 'Female' 25 165 58 'New York']\n",
      " ['Diana' 'Female' 28 170 65 'Miami']\n",
      " ['Eva' 'Female' 27 175 60 'New York']\n",
      " ['Grace' 'Female' 32 168 55 'Chicago']\n",
      " ['Ivy' 'Female' 26 172 63 'Miami']]\n"
     ]
    }
   ],
   "source": [
    "females=array[array[:,1]=='Female']\n",
    "print(females)"
   ]
  },
  {
   "cell_type": "markdown",
   "id": "3208ab35",
   "metadata": {},
   "source": [
    "### 6. Calculate the mean weight of the females in the group using NumPy."
   ]
  },
  {
   "cell_type": "code",
   "execution_count": 12,
   "id": "feeb901f",
   "metadata": {},
   "outputs": [
    {
     "name": "stdout",
     "output_type": "stream",
     "text": [
      "[58 65 60 55 63]\n"
     ]
    }
   ],
   "source": [
    "weight=females[:,4]\n",
    "print(weight)"
   ]
  },
  {
   "cell_type": "code",
   "execution_count": 13,
   "id": "85d42ba4",
   "metadata": {},
   "outputs": [
    {
     "data": {
      "text/plain": [
       "60.2"
      ]
     },
     "execution_count": 13,
     "metadata": {},
     "output_type": "execute_result"
    }
   ],
   "source": [
    "np.mean(weight)"
   ]
  },
  {
   "cell_type": "code",
   "execution_count": null,
   "id": "d320cdd8",
   "metadata": {},
   "outputs": [],
   "source": []
  }
 ],
 "metadata": {
  "kernelspec": {
   "display_name": "Python 3 (ipykernel)",
   "language": "python",
   "name": "python3"
  },
  "language_info": {
   "codemirror_mode": {
    "name": "ipython",
    "version": 3
   },
   "file_extension": ".py",
   "mimetype": "text/x-python",
   "name": "python",
   "nbconvert_exporter": "python",
   "pygments_lexer": "ipython3",
   "version": "3.10.9"
  }
 },
 "nbformat": 4,
 "nbformat_minor": 5
}

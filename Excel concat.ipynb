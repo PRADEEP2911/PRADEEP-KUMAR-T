{
 "cells": [
  {
   "cell_type": "code",
   "execution_count": 1,
   "id": "e1270a2b",
   "metadata": {},
   "outputs": [],
   "source": [
    "import pandas as pd"
   ]
  },
  {
   "cell_type": "code",
   "execution_count": 2,
   "id": "07f7346a",
   "metadata": {},
   "outputs": [],
   "source": [
    "cols=[0,15]"
   ]
  },
  {
   "cell_type": "code",
   "execution_count": 3,
   "id": "c5f1c086",
   "metadata": {},
   "outputs": [],
   "source": [
    "df1=pd.read_excel(\"D:\\Pradeep\\Daily Efort\\Merger_2023_03_21_13_11_59.xlsx\",usecols=cols)"
   ]
  },
  {
   "cell_type": "code",
   "execution_count": 4,
   "id": "73932691",
   "metadata": {},
   "outputs": [],
   "source": [
    "df2=pd.read_excel(\"D:\\Pradeep\\Daily Efort\\Merger_2023_03_22_09_56_58.xlsx\",usecols=cols)"
   ]
  },
  {
   "cell_type": "code",
   "execution_count": 5,
   "id": "23d030b9",
   "metadata": {},
   "outputs": [],
   "source": [
    "df3=pd.concat([df1,df2])"
   ]
  },
  {
   "cell_type": "code",
   "execution_count": 6,
   "id": "3d565c2d",
   "metadata": {},
   "outputs": [],
   "source": [
    "df3.to_excel(\"D:\\Pradeep\\Daily Efort\\output\\Result.xlsx\",index=False)"
   ]
  },
  {
   "cell_type": "code",
   "execution_count": 9,
   "id": "b51eda82",
   "metadata": {},
   "outputs": [
    {
     "data": {
      "text/html": [
       "<div>\n",
       "<style scoped>\n",
       "    .dataframe tbody tr th:only-of-type {\n",
       "        vertical-align: middle;\n",
       "    }\n",
       "\n",
       "    .dataframe tbody tr th {\n",
       "        vertical-align: top;\n",
       "    }\n",
       "\n",
       "    .dataframe thead th {\n",
       "        text-align: right;\n",
       "    }\n",
       "</style>\n",
       "<table border=\"1\" class=\"dataframe\">\n",
       "  <thead>\n",
       "    <tr style=\"text-align: right;\">\n",
       "      <th></th>\n",
       "      <th>Path to measurement</th>\n",
       "      <th>Which object</th>\n",
       "    </tr>\n",
       "  </thead>\n",
       "  <tbody>\n",
       "    <tr>\n",
       "      <th>0</th>\n",
       "      <td>D:\\Saritha\\USS\\Production\\VW\\toyota\\112855\\seq...</td>\n",
       "      <td>dummychild</td>\n",
       "    </tr>\n",
       "    <tr>\n",
       "      <th>1</th>\n",
       "      <td>D:\\Saritha\\USS\\Production\\VW\\toyota\\112855\\seq...</td>\n",
       "      <td>empty</td>\n",
       "    </tr>\n",
       "    <tr>\n",
       "      <th>2</th>\n",
       "      <td>D:\\Saritha\\USS\\Production\\VW\\toyota\\112855\\seq...</td>\n",
       "      <td>dummychild</td>\n",
       "    </tr>\n",
       "    <tr>\n",
       "      <th>3</th>\n",
       "      <td>D:\\Saritha\\USS\\Production\\VW\\toyota\\112855\\seq...</td>\n",
       "      <td>empty</td>\n",
       "    </tr>\n",
       "    <tr>\n",
       "      <th>4</th>\n",
       "      <td>D:\\Saritha\\USS\\Production\\VW\\toyota\\112855\\seq...</td>\n",
       "      <td>dummychild</td>\n",
       "    </tr>\n",
       "    <tr>\n",
       "      <th>...</th>\n",
       "      <td>...</td>\n",
       "      <td>...</td>\n",
       "    </tr>\n",
       "    <tr>\n",
       "      <th>47</th>\n",
       "      <td>C:\\Sathya\\21032023\\jobrun_112855\\sequence__541...</td>\n",
       "      <td>empty</td>\n",
       "    </tr>\n",
       "    <tr>\n",
       "      <th>48</th>\n",
       "      <td>C:\\Sathya\\21032023\\jobrun_112855\\sequence__541...</td>\n",
       "      <td>dummychild</td>\n",
       "    </tr>\n",
       "    <tr>\n",
       "      <th>49</th>\n",
       "      <td>C:\\Sathya\\21032023\\jobrun_112855\\sequence__541...</td>\n",
       "      <td>empty</td>\n",
       "    </tr>\n",
       "    <tr>\n",
       "      <th>50</th>\n",
       "      <td>C:\\Sathya\\21032023\\jobrun_112855\\sequence__541...</td>\n",
       "      <td>dummychild</td>\n",
       "    </tr>\n",
       "    <tr>\n",
       "      <th>51</th>\n",
       "      <td>C:\\Sathya\\21032023\\jobrun_112855\\sequence__541...</td>\n",
       "      <td>empty</td>\n",
       "    </tr>\n",
       "  </tbody>\n",
       "</table>\n",
       "<p>96 rows × 2 columns</p>\n",
       "</div>"
      ],
      "text/plain": [
       "                                  Path to measurement Which object\n",
       "0   D:\\Saritha\\USS\\Production\\VW\\toyota\\112855\\seq...   dummychild\n",
       "1   D:\\Saritha\\USS\\Production\\VW\\toyota\\112855\\seq...        empty\n",
       "2   D:\\Saritha\\USS\\Production\\VW\\toyota\\112855\\seq...   dummychild\n",
       "3   D:\\Saritha\\USS\\Production\\VW\\toyota\\112855\\seq...        empty\n",
       "4   D:\\Saritha\\USS\\Production\\VW\\toyota\\112855\\seq...   dummychild\n",
       "..                                                ...          ...\n",
       "47  C:\\Sathya\\21032023\\jobrun_112855\\sequence__541...        empty\n",
       "48  C:\\Sathya\\21032023\\jobrun_112855\\sequence__541...   dummychild\n",
       "49  C:\\Sathya\\21032023\\jobrun_112855\\sequence__541...        empty\n",
       "50  C:\\Sathya\\21032023\\jobrun_112855\\sequence__541...   dummychild\n",
       "51  C:\\Sathya\\21032023\\jobrun_112855\\sequence__541...        empty\n",
       "\n",
       "[96 rows x 2 columns]"
      ]
     },
     "execution_count": 9,
     "metadata": {},
     "output_type": "execute_result"
    }
   ],
   "source": [
    "df3"
   ]
  },
  {
   "cell_type": "code",
   "execution_count": 10,
   "id": "4dbddf11",
   "metadata": {},
   "outputs": [
    {
     "data": {
      "text/plain": [
       "(44, 2)"
      ]
     },
     "execution_count": 10,
     "metadata": {},
     "output_type": "execute_result"
    }
   ],
   "source": [
    "df1.shape"
   ]
  },
  {
   "cell_type": "code",
   "execution_count": 11,
   "id": "44a39d93",
   "metadata": {},
   "outputs": [
    {
     "data": {
      "text/plain": [
       "(52, 2)"
      ]
     },
     "execution_count": 11,
     "metadata": {},
     "output_type": "execute_result"
    }
   ],
   "source": [
    "df2.shape"
   ]
  }
 ],
 "metadata": {
  "kernelspec": {
   "display_name": "Python 3 (ipykernel)",
   "language": "python",
   "name": "python3"
  },
  "language_info": {
   "codemirror_mode": {
    "name": "ipython",
    "version": 3
   },
   "file_extension": ".py",
   "mimetype": "text/x-python",
   "name": "python",
   "nbconvert_exporter": "python",
   "pygments_lexer": "ipython3",
   "version": "3.9.7"
  }
 },
 "nbformat": 4,
 "nbformat_minor": 5
}

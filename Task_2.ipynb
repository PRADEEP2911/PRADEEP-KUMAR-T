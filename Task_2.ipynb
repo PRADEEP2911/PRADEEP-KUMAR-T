{
 "cells": [
  {
   "cell_type": "markdown",
   "id": "f7e73ab5",
   "metadata": {},
   "source": [
    "### 1. Create a tuple my_tuple with the values 1, 2, and 3. Print the tuple."
   ]
  },
  {
   "cell_type": "code",
   "execution_count": 1,
   "id": "5d94d266",
   "metadata": {},
   "outputs": [
    {
     "data": {
      "text/plain": [
       "tuple"
      ]
     },
     "execution_count": 1,
     "metadata": {},
     "output_type": "execute_result"
    }
   ],
   "source": [
    "my_tuple=(1,2,3)\n",
    "type (my_tuple)"
   ]
  },
  {
   "cell_type": "code",
   "execution_count": 2,
   "id": "0c571ae1",
   "metadata": {},
   "outputs": [
    {
     "name": "stdout",
     "output_type": "stream",
     "text": [
      "(1, 2, 3)\n"
     ]
    }
   ],
   "source": [
    "print (f'{my_tuple}')"
   ]
  },
  {
   "cell_type": "markdown",
   "id": "9ff5a76f",
   "metadata": {},
   "source": [
    "### 2. Create a set my_set with the values 1, 2, and 3. Print the set."
   ]
  },
  {
   "cell_type": "code",
   "execution_count": 3,
   "id": "c9addc04",
   "metadata": {},
   "outputs": [
    {
     "data": {
      "text/plain": [
       "set"
      ]
     },
     "execution_count": 3,
     "metadata": {},
     "output_type": "execute_result"
    }
   ],
   "source": [
    "my_set={1,2,3}\n",
    "type (my_set)"
   ]
  },
  {
   "cell_type": "code",
   "execution_count": 4,
   "id": "afba661f",
   "metadata": {},
   "outputs": [
    {
     "name": "stdout",
     "output_type": "stream",
     "text": [
      "{1, 2, 3}\n"
     ]
    }
   ],
   "source": [
    "print (f'{my_set}')"
   ]
  },
  {
   "cell_type": "markdown",
   "id": "8cfe0816",
   "metadata": {},
   "source": [
    "### 3. Create a dictionary my_dict with keys \"apple\", \"banana\", and \"cherry\" and values 1, 2, and 3. Print the dictionary."
   ]
  },
  {
   "cell_type": "code",
   "execution_count": 5,
   "id": "8dea45fc",
   "metadata": {},
   "outputs": [],
   "source": [
    "my_dict={\"apple\":1,\"banana\":2,\"cherry\":3}"
   ]
  },
  {
   "cell_type": "code",
   "execution_count": 6,
   "id": "7b426470",
   "metadata": {},
   "outputs": [
    {
     "data": {
      "text/plain": [
       "dict_keys(['apple', 'banana', 'cherry'])"
      ]
     },
     "execution_count": 6,
     "metadata": {},
     "output_type": "execute_result"
    }
   ],
   "source": [
    "my_dict.keys()"
   ]
  },
  {
   "cell_type": "code",
   "execution_count": 7,
   "id": "05885253",
   "metadata": {},
   "outputs": [
    {
     "data": {
      "text/plain": [
       "dict_values([1, 2, 3])"
      ]
     },
     "execution_count": 7,
     "metadata": {},
     "output_type": "execute_result"
    }
   ],
   "source": [
    "my_dict.values()"
   ]
  },
  {
   "cell_type": "code",
   "execution_count": 8,
   "id": "a1c92396",
   "metadata": {},
   "outputs": [
    {
     "name": "stdout",
     "output_type": "stream",
     "text": [
      "{'apple': 1, 'banana': 2, 'cherry': 3}\n"
     ]
    }
   ],
   "source": [
    "print (f'{my_dict}')"
   ]
  },
  {
   "cell_type": "markdown",
   "id": "7bd2e209",
   "metadata": {},
   "source": [
    "### 4. Use a for loop to print the values in my_tuple one by one."
   ]
  },
  {
   "cell_type": "code",
   "execution_count": 9,
   "id": "5405bc09",
   "metadata": {},
   "outputs": [
    {
     "data": {
      "text/plain": [
       "(1, 2, 3)"
      ]
     },
     "execution_count": 9,
     "metadata": {},
     "output_type": "execute_result"
    }
   ],
   "source": [
    "my_tuple"
   ]
  },
  {
   "cell_type": "code",
   "execution_count": 10,
   "id": "fd79c314",
   "metadata": {},
   "outputs": [
    {
     "name": "stdout",
     "output_type": "stream",
     "text": [
      "1\n",
      "2\n",
      "3\n"
     ]
    }
   ],
   "source": [
    "for i in my_tuple:\n",
    "    print(i)"
   ]
  },
  {
   "cell_type": "markdown",
   "id": "05dc046e",
   "metadata": {},
   "source": [
    "### 5. Use a for loop to print the values in my_set one by one."
   ]
  },
  {
   "cell_type": "code",
   "execution_count": 11,
   "id": "10b1b662",
   "metadata": {},
   "outputs": [
    {
     "data": {
      "text/plain": [
       "{1, 2, 3}"
      ]
     },
     "execution_count": 11,
     "metadata": {},
     "output_type": "execute_result"
    }
   ],
   "source": [
    "my_set"
   ]
  },
  {
   "cell_type": "code",
   "execution_count": 12,
   "id": "367d261f",
   "metadata": {},
   "outputs": [
    {
     "name": "stdout",
     "output_type": "stream",
     "text": [
      "1\n",
      "2\n",
      "3\n"
     ]
    }
   ],
   "source": [
    "for i in my_set:\n",
    "    print(i)"
   ]
  },
  {
   "cell_type": "markdown",
   "id": "5f8f5e7d",
   "metadata": {},
   "source": [
    "### 6. Use a for loop to print the keys and values in my_dict one by one."
   ]
  },
  {
   "cell_type": "code",
   "execution_count": 13,
   "id": "f5d59511",
   "metadata": {},
   "outputs": [
    {
     "data": {
      "text/plain": [
       "{'apple': 1, 'banana': 2, 'cherry': 3}"
      ]
     },
     "execution_count": 13,
     "metadata": {},
     "output_type": "execute_result"
    }
   ],
   "source": [
    "my_dict"
   ]
  },
  {
   "cell_type": "code",
   "execution_count": 14,
   "id": "73f418a0",
   "metadata": {},
   "outputs": [
    {
     "name": "stdout",
     "output_type": "stream",
     "text": [
      "apple 1\n",
      "banana 2\n",
      "cherry 3\n"
     ]
    }
   ],
   "source": [
    "for x,y in my_dict.items():\n",
    "    print(x,y)"
   ]
  },
  {
   "cell_type": "markdown",
   "id": "84af2623",
   "metadata": {},
   "source": [
    "### 7. Use a while loop to print the numbers from 1 to 10."
   ]
  },
  {
   "cell_type": "code",
   "execution_count": 23,
   "id": "d06d4d77",
   "metadata": {},
   "outputs": [
    {
     "name": "stdout",
     "output_type": "stream",
     "text": [
      "1\n",
      "2\n",
      "3\n",
      "4\n",
      "5\n",
      "6\n",
      "7\n",
      "8\n",
      "9\n",
      "10\n"
     ]
    }
   ],
   "source": [
    "i=1\n",
    "while i < 11:\n",
    "    print(i)\n",
    "    i=i+1"
   ]
  },
  {
   "cell_type": "markdown",
   "id": "b7364d3c",
   "metadata": {},
   "source": [
    "### 8. Use a while loop to print the even numbers from 2 to 10."
   ]
  },
  {
   "cell_type": "code",
   "execution_count": 24,
   "id": "24555c07",
   "metadata": {},
   "outputs": [
    {
     "name": "stdout",
     "output_type": "stream",
     "text": [
      "2\n",
      "4\n",
      "6\n",
      "8\n",
      "10\n"
     ]
    }
   ],
   "source": [
    "i=2\n",
    "while i < 11:\n",
    "    print(i)\n",
    "    i=i+2"
   ]
  },
  {
   "cell_type": "markdown",
   "id": "cb80b05f",
   "metadata": {},
   "source": [
    "### 9. Use a while loop to print the squares of the numbers from 1 to 5."
   ]
  },
  {
   "cell_type": "code",
   "execution_count": 25,
   "id": "a602c789",
   "metadata": {},
   "outputs": [
    {
     "name": "stdout",
     "output_type": "stream",
     "text": [
      "1\n",
      "4\n",
      "9\n",
      "16\n",
      "25\n"
     ]
    }
   ],
   "source": [
    "i=1\n",
    "while i <= 5:\n",
    "    print(i**2)\n",
    "    i=i+1"
   ]
  },
  {
   "cell_type": "markdown",
   "id": "af1b33c2",
   "metadata": {},
   "source": [
    "### 10. Use a for loop to print the sum of the numbers in my_tuple."
   ]
  },
  {
   "cell_type": "code",
   "execution_count": 26,
   "id": "02a6a8e2",
   "metadata": {},
   "outputs": [
    {
     "name": "stdout",
     "output_type": "stream",
     "text": [
      "2\n",
      "3\n",
      "4\n"
     ]
    }
   ],
   "source": [
    "sum=1\n",
    "for i in my_tuple:\n",
    "    print(i+sum)"
   ]
  }
 ],
 "metadata": {
  "kernelspec": {
   "display_name": "Python 3 (ipykernel)",
   "language": "python",
   "name": "python3"
  },
  "language_info": {
   "codemirror_mode": {
    "name": "ipython",
    "version": 3
   },
   "file_extension": ".py",
   "mimetype": "text/x-python",
   "name": "python",
   "nbconvert_exporter": "python",
   "pygments_lexer": "ipython3",
   "version": "3.10.9"
  }
 },
 "nbformat": 4,
 "nbformat_minor": 5
}

{
 "cells": [
  {
   "cell_type": "markdown",
   "id": "84c60e89",
   "metadata": {},
   "source": [
    "# Task 1\n",
    "## Remove duplicates \n",
    "### a=[2,3,4,2,3,4,8,9,12,\"apple\",'Apple']"
   ]
  },
  {
   "cell_type": "code",
   "execution_count": 2,
   "id": "63667cfd",
   "metadata": {},
   "outputs": [],
   "source": [
    "a=[2,3,4,2,3,4,8,9,12,\"apple\",'Apple']"
   ]
  },
  {
   "cell_type": "code",
   "execution_count": 3,
   "id": "2ff0a78f",
   "metadata": {},
   "outputs": [
    {
     "name": "stdout",
     "output_type": "stream",
     "text": [
      "original list: [2, 3, 4, 2, 3, 4, 8, 9, 12, 'apple', 'Apple']\n"
     ]
    }
   ],
   "source": [
    "print(\"original list:\",a)"
   ]
  },
  {
   "cell_type": "code",
   "execution_count": 7,
   "id": "ec6466fb",
   "metadata": {},
   "outputs": [],
   "source": [
    "a=[set(a)]"
   ]
  },
  {
   "cell_type": "code",
   "execution_count": 8,
   "id": "aadc89cd",
   "metadata": {},
   "outputs": [
    {
     "name": "stdout",
     "output_type": "stream",
     "text": [
      "list after removing dupilcate elements: [{2, 3, 4, 8, 9, 12, 'Apple', 'apple'}]\n"
     ]
    }
   ],
   "source": [
    "print(\"list after removing dupilcate elements:\",a)"
   ]
  },
  {
   "cell_type": "code",
   "execution_count": 9,
   "id": "38cfdbb4",
   "metadata": {},
   "outputs": [
    {
     "data": {
      "text/plain": [
       "[{12, 2, 3, 4, 8, 9, 'Apple', 'apple'}]"
      ]
     },
     "execution_count": 9,
     "metadata": {},
     "output_type": "execute_result"
    }
   ],
   "source": [
    "a"
   ]
  },
  {
   "cell_type": "markdown",
   "id": "4342e79e",
   "metadata": {},
   "source": [
    "# Task 2\n",
    "## slice 'apple' from the give variable\n",
    "### B='i need an apple'"
   ]
  },
  {
   "cell_type": "code",
   "execution_count": 11,
   "id": "4ffe06c4",
   "metadata": {},
   "outputs": [],
   "source": [
    "B='i need an apple'"
   ]
  },
  {
   "cell_type": "code",
   "execution_count": 12,
   "id": "ab6c4318",
   "metadata": {},
   "outputs": [],
   "source": [
    "c=(B[10:15])"
   ]
  },
  {
   "cell_type": "code",
   "execution_count": 13,
   "id": "8c4b4480",
   "metadata": {},
   "outputs": [
    {
     "data": {
      "text/plain": [
       "'apple'"
      ]
     },
     "execution_count": 13,
     "metadata": {},
     "output_type": "execute_result"
    }
   ],
   "source": [
    "c"
   ]
  },
  {
   "cell_type": "markdown",
   "id": "7a41b2ac",
   "metadata": {},
   "source": [
    "# Task-3\n",
    "\n",
    "## Add both number when both number are even,"
   ]
  },
  {
   "cell_type": "code",
   "execution_count": 19,
   "id": "76122158",
   "metadata": {},
   "outputs": [],
   "source": [
    "def add(x1,y1):\n",
    "    if x1 and y1%2==0:\n",
    "        x=x1+y1\n",
    "        print(x,\"is even\")\n",
    "        return x"
   ]
  },
  {
   "cell_type": "code",
   "execution_count": 20,
   "id": "78c89c84",
   "metadata": {},
   "outputs": [
    {
     "name": "stdout",
     "output_type": "stream",
     "text": [
      "16 is even\n"
     ]
    },
    {
     "data": {
      "text/plain": [
       "16"
      ]
     },
     "execution_count": 20,
     "metadata": {},
     "output_type": "execute_result"
    }
   ],
   "source": [
    "add(12,4)"
   ]
  },
  {
   "cell_type": "markdown",
   "id": "948b8c55",
   "metadata": {},
   "source": [
    "## Multiple when both number are not a even number"
   ]
  },
  {
   "cell_type": "code",
   "execution_count": 62,
   "id": "0e22dce6",
   "metadata": {},
   "outputs": [],
   "source": [
    "def mul(x2,y2):\n",
    "    if x2 and y2 % 2 == 1:\n",
    "        y=x2*y2\n",
    "    print(y, \"is not even\")\n",
    "    return y"
   ]
  },
  {
   "cell_type": "code",
   "execution_count": 63,
   "id": "21d9ae52",
   "metadata": {},
   "outputs": [
    {
     "name": "stdout",
     "output_type": "stream",
     "text": [
      "45 is not even\n"
     ]
    },
    {
     "data": {
      "text/plain": [
       "45"
      ]
     },
     "execution_count": 63,
     "metadata": {},
     "output_type": "execute_result"
    }
   ],
   "source": [
    "mul (15,3)"
   ]
  },
  {
   "cell_type": "code",
   "execution_count": 64,
   "id": "8f0e96fc",
   "metadata": {},
   "outputs": [
    {
     "name": "stdout",
     "output_type": "stream",
     "text": [
      "115 is not even\n"
     ]
    },
    {
     "data": {
      "text/plain": [
       "115"
      ]
     },
     "execution_count": 64,
     "metadata": {},
     "output_type": "execute_result"
    }
   ],
   "source": [
    "mul (23,5)"
   ]
  },
  {
   "cell_type": "markdown",
   "id": "cb743f0b",
   "metadata": {},
   "source": [
    "# Task-4\n",
    "## Create a module and excute the module for the above task-3"
   ]
  },
  {
   "cell_type": "code",
   "execution_count": 65,
   "id": "b08e265d",
   "metadata": {},
   "outputs": [],
   "source": [
    "def add(x1,y1):\n",
    "    if x1 and y1%2==0:\n",
    "        x=x1+y1\n",
    "        print(x,\"is even\")\n",
    "        return x\n",
    "def mul(x2,y2):\n",
    "    if x2 and y2 % 2 == 1:\n",
    "        y=x2*y2\n",
    "    print(y, \"is not even\")\n",
    "    return y"
   ]
  },
  {
   "cell_type": "code",
   "execution_count": 66,
   "id": "9b830063",
   "metadata": {},
   "outputs": [
    {
     "name": "stdout",
     "output_type": "stream",
     "text": [
      "46 is even\n",
      "45 is not even\n"
     ]
    },
    {
     "data": {
      "text/plain": [
       "45"
      ]
     },
     "execution_count": 66,
     "metadata": {},
     "output_type": "execute_result"
    }
   ],
   "source": [
    "add (12,34)\n",
    "mul (5,9)"
   ]
  },
  {
   "cell_type": "markdown",
   "id": "d0a261d0",
   "metadata": {},
   "source": [
    "# Task-5\n",
    "## Write a Python program to display a multiplication table(8th table) using for loop."
   ]
  },
  {
   "cell_type": "code",
   "execution_count": 70,
   "id": "c03b5e13",
   "metadata": {},
   "outputs": [
    {
     "name": "stdout",
     "output_type": "stream",
     "text": [
      "1 * 8 = 8\n",
      "2 * 8 = 16\n",
      "3 * 8 = 24\n",
      "4 * 8 = 32\n",
      "5 * 8 = 40\n",
      "6 * 8 = 48\n",
      "7 * 8 = 56\n",
      "8 * 8 = 64\n",
      "9 * 8 = 72\n",
      "10 * 8 = 80\n",
      "11 * 8 = 88\n",
      "12 * 8 = 96\n",
      "13 * 8 = 104\n",
      "14 * 8 = 112\n",
      "15 * 8 = 120\n"
     ]
    }
   ],
   "source": [
    "mul = 8\n",
    "for z in range(1,16):\n",
    "    print(z, \"*\", mul, \"=\", mul*z)"
   ]
  }
 ],
 "metadata": {
  "kernelspec": {
   "display_name": "Python 3 (ipykernel)",
   "language": "python",
   "name": "python3"
  },
  "language_info": {
   "codemirror_mode": {
    "name": "ipython",
    "version": 3
   },
   "file_extension": ".py",
   "mimetype": "text/x-python",
   "name": "python",
   "nbconvert_exporter": "python",
   "pygments_lexer": "ipython3",
   "version": "3.10.8"
  }
 },
 "nbformat": 4,
 "nbformat_minor": 5
}
